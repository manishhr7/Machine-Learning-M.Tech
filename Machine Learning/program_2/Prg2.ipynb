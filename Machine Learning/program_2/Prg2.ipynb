{
 "cells": [
  {
   "cell_type": "code",
   "execution_count": 1,
   "metadata": {},
   "outputs": [],
   "source": [
    "import pandas as pd\n",
    "from sklearn.model_selection import train_test_split\n",
    "from sklearn.feature_extraction.text import CountVectorizer\n",
    "from sklearn.naive_bayes import MultinomialNB\n",
    "from sklearn import metrics"
   ]
  },
  {
   "cell_type": "code",
   "execution_count": 2,
   "metadata": {},
   "outputs": [],
   "source": [
    "# Load the dataset, skipping the first row if it contains headers\n",
    "file_path = 'text_labels.csv'\n",
    "msg = pd.read_csv(file_path, skiprows=1, names=['message', 'label'])"
   ]
  },
  {
   "cell_type": "code",
   "execution_count": 3,
   "metadata": {},
   "outputs": [
    {
     "name": "stdout",
     "output_type": "stream",
     "text": [
      "Missing values:\n",
      "message    0\n",
      "label      0\n",
      "dtype: int64\n"
     ]
    }
   ],
   "source": [
    "# Check for missing values\n",
    "missing_values = msg.isnull().sum()\n",
    "print(f\"Missing values:\\n{missing_values}\")"
   ]
  },
  {
   "cell_type": "code",
   "execution_count": 4,
   "metadata": {},
   "outputs": [],
   "source": [
    "# Map labels to numerical values\n",
    "msg['labelnum'] = msg.label.map({'pos': 1, 'neg': 0})"
   ]
  },
  {
   "cell_type": "code",
   "execution_count": 5,
   "metadata": {},
   "outputs": [],
   "source": [
    "# Extract features and labels\n",
    "X = msg.message\n",
    "y = msg.labelnum"
   ]
  },
  {
   "cell_type": "code",
   "execution_count": 6,
   "metadata": {},
   "outputs": [
    {
     "name": "stdout",
     "output_type": "stream",
     "text": [
      "The total number of Training Data: (14,)\n",
      "The total number of Test Data: (4,)\n"
     ]
    }
   ],
   "source": [
    "# Split the dataset into train and test data\n",
    "xtrain, xtest, ytrain, ytest = train_test_split(X, y, test_size=0.2, random_state=42)\n",
    "print('The total number of Training Data:', ytrain.shape)\n",
    "print('The total number of Test Data:', ytest.shape)"
   ]
  },
  {
   "cell_type": "code",
   "execution_count": 7,
   "metadata": {},
   "outputs": [
    {
     "name": "stdout",
     "output_type": "stream",
     "text": [
      "\n",
      "The words or Tokens in the text documents\n",
      "\n",
      "['about' 'am' 'an' 'and' 'awesome' 'bad' 'beers' 'best' 'boss' 'can'\n",
      " 'dance' 'deal' 'do' 'enemy' 'feel' 'fun' 'good' 'great' 'have' 'holiday'\n",
      " 'horrible' 'house' 'is' 'juice' 'like' 'locality' 'love' 'my' 'not' 'of'\n",
      " 'place' 'sick' 'stay' 'stuff' 'taste' 'that' 'the' 'these' 'this' 'tired'\n",
      " 'to' 'today' 'tomorrow' 'very' 'view' 'we' 'went' 'what' 'will' 'with'\n",
      " 'work']\n"
     ]
    }
   ],
   "source": [
    "# Vectorize the text data\n",
    "count_vect = CountVectorizer()\n",
    "xtrain_dtm = count_vect.fit_transform(xtrain)\n",
    "xtest_dtm = count_vect.transform(xtest)\n",
    "print('\\nThe words or Tokens in the text documents\\n')\n",
    "print(count_vect.get_feature_names_out())\n"
   ]
  },
  {
   "cell_type": "code",
   "execution_count": 8,
   "metadata": {},
   "outputs": [],
   "source": [
    "# Train the Naive Bayes classifier\n",
    "clf = MultinomialNB().fit(xtrain_dtm, ytrain)\n",
    "predicted = clf.predict(xtest_dtm)"
   ]
  },
  {
   "cell_type": "code",
   "execution_count": 9,
   "metadata": {},
   "outputs": [
    {
     "name": "stdout",
     "output_type": "stream",
     "text": [
      "\n",
      "Accuracy of the classifier is 1.0\n",
      "\n",
      "Confusion matrix\n",
      "[[2 0]\n",
      " [0 2]]\n",
      "\n",
      "The value of Precision 1.0\n",
      "\n",
      "The value of Recall 1.0\n"
     ]
    }
   ],
   "source": [
    "# Evaluate the classifier\n",
    "print('\\nAccuracy of the classifier is', metrics.accuracy_score(ytest, predicted))\n",
    "print('\\nConfusion matrix')\n",
    "print(metrics.confusion_matrix(ytest, predicted))\n",
    "print('\\nThe value of Precision', metrics.precision_score(ytest, predicted))\n",
    "print('\\nThe value of Recall', metrics.recall_score(ytest, predicted))"
   ]
  }
 ],
 "metadata": {
  "kernelspec": {
   "display_name": "Python 3 (ipykernel)",
   "language": "python",
   "name": "python3"
  },
  "language_info": {
   "codemirror_mode": {
    "name": "ipython",
    "version": 3
   },
   "file_extension": ".py",
   "mimetype": "text/x-python",
   "name": "python",
   "nbconvert_exporter": "python",
   "pygments_lexer": "ipython3",
   "version": "3.10.6"
  }
 },
 "nbformat": 4,
 "nbformat_minor": 2
}
